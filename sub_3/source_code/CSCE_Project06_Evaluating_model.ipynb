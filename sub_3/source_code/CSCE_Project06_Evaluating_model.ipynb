{
  "nbformat": 4,
  "nbformat_minor": 0,
  "metadata": {
    "colab": {
      "name": "CSCE_Project06_Evaluating_model",
      "provenance": [],
      "collapsed_sections": []
    },
    "kernelspec": {
      "name": "python3",
      "display_name": "Python 3"
    }
  },
  "cells": [
    {
      "cell_type": "code",
      "metadata": {
        "id": "SBJfdq_snsIJ",
        "colab_type": "code",
        "colab": {
          "base_uri": "https://localhost:8080/",
          "height": 126
        },
        "outputId": "a9f23960-2816-4088-c10e-d273e0830ea9"
      },
      "source": [
        "from google.colab import drive\n",
        "drive.mount('/content/drive')"
      ],
      "execution_count": 1,
      "outputs": [
        {
          "output_type": "stream",
          "text": [
            "Go to this URL in a browser: https://accounts.google.com/o/oauth2/auth?client_id=947318989803-6bn6qk8qdgf4n4g3pfee6491hc0brc4i.apps.googleusercontent.com&redirect_uri=urn%3aietf%3awg%3aoauth%3a2.0%3aoob&response_type=code&scope=email%20https%3a%2f%2fwww.googleapis.com%2fauth%2fdocs.test%20https%3a%2f%2fwww.googleapis.com%2fauth%2fdrive%20https%3a%2f%2fwww.googleapis.com%2fauth%2fdrive.photos.readonly%20https%3a%2f%2fwww.googleapis.com%2fauth%2fpeopleapi.readonly\n",
            "\n",
            "Enter your authorization code:\n",
            "··········\n",
            "Mounted at /content/drive\n"
          ],
          "name": "stdout"
        }
      ]
    },
    {
      "cell_type": "markdown",
      "metadata": {
        "id": "vERv7CA4n1bI",
        "colab_type": "text"
      },
      "source": [
        "## Get the x_test and y_test"
      ]
    },
    {
      "cell_type": "code",
      "metadata": {
        "id": "A3_8c3h6nyAT",
        "colab_type": "code",
        "colab": {
          "base_uri": "https://localhost:8080/",
          "height": 52
        },
        "outputId": "3f45c584-da4c-4f39-f8b8-b0c7c651cc52"
      },
      "source": [
        "import pandas as pd\n",
        "import numpy as np\n",
        "from sklearn import preprocessing\n",
        "\n",
        "base_dir = \"/content/drive/My Drive/Google_Colab\"\n",
        "# test_data consist 5 sampels save in an excel file. Read each sample by calling its corresponding sheet\n",
        "df = pd.read_excel(base_dir + '/' + 'test_data_3.xlsx', index_col = 0, sheet_name='sample1')\n",
        "\n",
        "labels = df.index.tolist()\n",
        "# get binary labels: if label=push, then is 1, and if label='other', then is 0\n",
        "\n",
        "\n",
        "r = 4    #number of videos\n",
        "m = 125     # number of frames (padded to max-len): this info is got from last block\n",
        "n = 75    # number of landmark vector-size\n",
        "\n",
        "\n",
        "def binary_label(labels):\n",
        "    binary_labels = []\n",
        "    for l in labels:\n",
        "        if l.split('_')[0]=='push':\n",
        "            #binary_labels.append(1)\n",
        "            binary_labels.append(np.ones(m))\n",
        "        else:\n",
        "            #binary_labels.append(0)\n",
        "            binary_labels.append(np.zeros(m))\n",
        "    return binary_labels\n",
        "\n",
        "# get list of labels as 0 and 1\n",
        "test_label_list = binary_label(labels)\n",
        "\n",
        "# get x_train and Normalize it so all numbers get scaled between 0-1\n",
        "input_data = df.values\n",
        "min_max_scaler = preprocessing.MinMaxScaler()\n",
        "x_test_scaled = min_max_scaler.fit_transform(input_data)\n",
        "\n",
        "# reshaping the data to get the original shape of the input data\n",
        "# each sample consists of 4 videos including 2 actions as pushing and 2 actions as other. all 4 videos are coupled\n",
        "# and given as one test sample to the model (this method is used to avoid manual labeling)\n",
        "\n",
        "x_test= x_test_scaled.reshape(r, m, n)\n",
        "y_test = np.asarray(test_label_list)            #convert label list to numpy array\n",
        "y_test = y_test.reshape(y_test.shape[0], y_test.shape[1], 1)    #reshape y_label to the correct shape\n",
        "\n",
        "print(x_test.shape)\n",
        "print (y_test.shape)"
      ],
      "execution_count": 51,
      "outputs": [
        {
          "output_type": "stream",
          "text": [
            "(4, 125, 75)\n",
            "(4, 125, 1)\n"
          ],
          "name": "stdout"
        }
      ]
    },
    {
      "cell_type": "markdown",
      "metadata": {
        "id": "bbNpI666puHd",
        "colab_type": "text"
      },
      "source": [
        "### Loading the trained model"
      ]
    },
    {
      "cell_type": "code",
      "metadata": {
        "id": "8ZmSJh58pqVN",
        "colab_type": "code",
        "colab": {
          "base_uri": "https://localhost:8080/",
          "height": 35
        },
        "outputId": "ae020636-6576-46b0-eef7-4e33e60b35aa"
      },
      "source": [
        "from tensorflow.python.keras.models import model_from_json\n",
        "\n",
        "\n",
        "json_file = open(base_dir + '/saved_models'+'/P06_LSTM_model7.json')\n",
        "loaded_model_json = json_file.read()\n",
        "json_file.close()\n",
        "\n",
        "loaded_model = model_from_json(loaded_model_json)\n",
        "# load weights into new model\n",
        "loaded_model.load_weights(base_dir +'/saved_models' +'/P06_LSTM_model7.h5')\n",
        "print(\"Loaded model from disk\")"
      ],
      "execution_count": 52,
      "outputs": [
        {
          "output_type": "stream",
          "text": [
            "Loaded model from disk\n"
          ],
          "name": "stdout"
        }
      ]
    },
    {
      "cell_type": "code",
      "metadata": {
        "id": "6-Td9o4zpzfP",
        "colab_type": "code",
        "colab": {}
      },
      "source": [
        "loaded_model.compile(loss='binary_crossentropy', optimizer='adam', metrics=['accuracy'])   "
      ],
      "execution_count": 0,
      "outputs": []
    },
    {
      "cell_type": "markdown",
      "metadata": {
        "id": "3dUIL5M-p9YE",
        "colab_type": "text"
      },
      "source": [
        "## Evaluate model on test data"
      ]
    },
    {
      "cell_type": "code",
      "metadata": {
        "id": "CZNvHzrHp42q",
        "colab_type": "code",
        "colab": {
          "base_uri": "https://localhost:8080/",
          "height": 52
        },
        "outputId": "a3b840f3-59f6-49bf-d43e-40958e35a835"
      },
      "source": [
        "scores = loaded_model.evaluate(x_test, y_test,batch_size=1)\n",
        "print(\"%s: %.2f%%\" % (loaded_model.metrics_names[1], scores[1]*100))"
      ],
      "execution_count": 54,
      "outputs": [
        {
          "output_type": "stream",
          "text": [
            "4/4 [==============================] - 0s 8ms/step - loss: 0.3767 - accuracy: 0.7560\n",
            "accuracy: 75.60%\n"
          ],
          "name": "stdout"
        }
      ]
    },
    {
      "cell_type": "markdown",
      "metadata": {
        "id": "Hh5OYP67qVlb",
        "colab_type": "text"
      },
      "source": [
        "## Timelabel.json file"
      ]
    },
    {
      "cell_type": "code",
      "metadata": {
        "id": "X3T-8NiIqB5J",
        "colab_type": "code",
        "colab": {
          "base_uri": "https://localhost:8080/",
          "height": 35
        },
        "outputId": "804a1798-cbbe-4d43-a982-354bad08be78"
      },
      "source": [
        "predictions = loaded_model.predict(x= x_test)\n",
        "predictions.shape"
      ],
      "execution_count": 55,
      "outputs": [
        {
          "output_type": "execute_result",
          "data": {
            "text/plain": [
              "(4, 125, 1)"
            ]
          },
          "metadata": {
            "tags": []
          },
          "execution_count": 55
        }
      ]
    },
    {
      "cell_type": "code",
      "metadata": {
        "id": "pVYDOK2KqZwU",
        "colab_type": "code",
        "colab": {}
      },
      "source": [
        "import json\n",
        "\n",
        "#my video length that gives 125 jsonfile (125 frame) is 4 second. since I have done padding to maxlen of 125 frames it means that I have considered the first 4 seconds of each video.\n",
        "# So each sample consisits of 4 vides. and it means the video sample length are 12 seconds. (4*4 =16)  \n",
        "vid_len = 16      \n",
        "n = predictions.shape[0]*predictions.shape[1]\n",
        "\n",
        "preds = predictions.reshape(n,)\n",
        "\n",
        "json = \"{\\\"push\\\":[\"\n",
        "values = []\n",
        "times = np.linspace(0.1,vid_len,n)\n",
        "\n",
        "for i in range(len(preds)):\n",
        "    l = \"[\"\n",
        "    #time += 0.5\n",
        "    time = times[i]\n",
        "    l += str(time)\n",
        "    l += ','\n",
        "    l += str(preds[i])\n",
        "    l += \"]\"\n",
        "    l += \",\"\n",
        "    json += l\n",
        "\n",
        "json = json[:-1]\n",
        "    \n",
        "json += \"]}\""
      ],
      "execution_count": 0,
      "outputs": []
    },
    {
      "cell_type": "markdown",
      "metadata": {
        "id": "r9_-tzxLqgwh",
        "colab_type": "text"
      },
      "source": [
        "## Saving TimeLabel JSON file"
      ]
    },
    {
      "cell_type": "code",
      "metadata": {
        "id": "dS1HkK3qqfdr",
        "colab_type": "code",
        "colab": {}
      },
      "source": [
        "with open(base_dir+'/timelabel_json'+'/timelabel_sample2_model1.json', 'w') as f:\n",
        "    f.write(json)"
      ],
      "execution_count": 0,
      "outputs": []
    },
    {
      "cell_type": "markdown",
      "metadata": {
        "id": "uWjW0k8Kq7RX",
        "colab_type": "text"
      },
      "source": [
        "## Plotting TimeLable v.s time"
      ]
    },
    {
      "cell_type": "code",
      "metadata": {
        "id": "FEuRqeb2q3_d",
        "colab_type": "code",
        "colab": {
          "base_uri": "https://localhost:8080/",
          "height": 334
        },
        "outputId": "9b9db1e0-1f2b-40e4-9d86-876a02102370"
      },
      "source": [
        "import matplotlib.pyplot as plt   \n",
        "%matplotlib inline\n",
        "\n",
        "# Plot Training and Validation accuracy over epoch\n",
        "plt.plot(times, preds)\n",
        "plt.title('Pushing detection during video time-length')\n",
        "plt.legend()\n",
        "\n",
        "plt.figure()"
      ],
      "execution_count": 57,
      "outputs": [
        {
          "output_type": "stream",
          "text": [
            "No handles with labels found to put in legend.\n"
          ],
          "name": "stderr"
        },
        {
          "output_type": "execute_result",
          "data": {
            "text/plain": [
              "<Figure size 432x288 with 0 Axes>"
            ]
          },
          "metadata": {
            "tags": []
          },
          "execution_count": 57
        },
        {
          "output_type": "display_data",
          "data": {
            "image/png": "[encoded data removed]",
            "text/plain": [
              "<Figure size 432x288 with 1 Axes>"
            ]
          },
          "metadata": {
            "tags": [],
            "needs_background": "light"
          }
        },
        {
          "output_type": "display_data",
          "data": {
            "text/plain": [
              "<Figure size 432x288 with 0 Axes>"
            ]
          },
          "metadata": {
            "tags": []
          }
        }
      ]
    },
    {
      "cell_type": "code",
      "metadata": {
        "id": "Jz06_DXoq94w",
        "colab_type": "code",
        "colab": {}
      },
      "source": [
        ""
      ],
      "execution_count": 0,
      "outputs": []
    }
  ]
}