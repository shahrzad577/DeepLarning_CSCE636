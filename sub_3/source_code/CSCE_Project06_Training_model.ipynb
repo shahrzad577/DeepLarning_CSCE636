{
  "nbformat": 4,
  "nbformat_minor": 0,
  "metadata": {
    "colab": {
      "name": "CSCE_Project06_Training_model.ipynb",
      "provenance": [],
      "collapsed_sections": []
    },
    "kernelspec": {
      "name": "python3",
      "display_name": "Python 3"
    }
  },
  "cells": [
    {
      "cell_type": "code",
      "metadata": {
        "id": "WFp6VCjsgh-z",
        "colab_type": "code",
        "outputId": "503393db-c75f-46bd-fff7-4507fa5d7f22",
        "colab": {
          "base_uri": "https://localhost:8080/",
          "height": 126
        }
      },
      "source": [
        "from google.colab import drive\n",
        "drive.mount('/content/drive')"
      ],
      "execution_count": 0,
      "outputs": [
        {
          "output_type": "stream",
          "text": [
            "Go to this URL in a browser: https://accounts.google.com/o/oauth2/auth?client_id=947318989803-6bn6qk8qdgf4n4g3pfee6491hc0brc4i.apps.googleusercontent.com&redirect_uri=urn%3aietf%3awg%3aoauth%3a2.0%3aoob&response_type=code&scope=email%20https%3a%2f%2fwww.googleapis.com%2fauth%2fdocs.test%20https%3a%2f%2fwww.googleapis.com%2fauth%2fdrive%20https%3a%2f%2fwww.googleapis.com%2fauth%2fdrive.photos.readonly%20https%3a%2f%2fwww.googleapis.com%2fauth%2fpeopleapi.readonly\n",
            "\n",
            "Enter your authorization code:\n",
            "··········\n",
            "Mounted at /content/drive\n"
          ],
          "name": "stdout"
        }
      ]
    },
    {
      "cell_type": "code",
      "metadata": {
        "id": "ofPckQEShS3c",
        "colab_type": "code",
        "colab": {}
      },
      "source": [
        "# Global variables:\n",
        "\n",
        "num_videos = 141\n",
        "n_timesteps = 125   # n_timesteps should be the same as maxlen for padding\n",
        "vector_size = 75   #json file, landmark vector_size \n",
        "\n",
        "# delet\n",
        "r = 100     #number of videos\n",
        "m = 125     # number of frames (padded to max-len): this info is got from last block\n",
        "n = 75    # number of landmark vector-size\n"
      ],
      "execution_count": 0,
      "outputs": []
    },
    {
      "cell_type": "markdown",
      "metadata": {
        "id": "0F3usEWNgrkh",
        "colab_type": "text"
      },
      "source": [
        "## Read the csv file (input data) and do data preprocessing"
      ]
    },
    {
      "cell_type": "code",
      "metadata": {
        "id": "HUDdqtvBgl4V",
        "colab_type": "code",
        "outputId": "8b382a9a-af67-4c5e-cc47-b52cc6f92b89",
        "colab": {
          "base_uri": "https://localhost:8080/",
          "height": 52
        }
      },
      "source": [
        "import pandas as pd\n",
        "import numpy as np\n",
        "from sklearn import preprocessing\n",
        "\n",
        "base_dir = \"/content/drive/My Drive/Google_Colab\"\n",
        "df = pd.read_csv(base_dir + '/' + 'input_data_3.csv', index_col = 0)\n",
        "\n",
        "# print (df.head())\n",
        "\n",
        "labels = df.index.tolist()\n",
        "# get binary labels: if label=push, then is 1, and if label='other', then is 0\n",
        "def binary_label(labels):\n",
        "    binary_labels = []\n",
        "    for l in labels:\n",
        "        if l.split('_')[0]=='push':\n",
        "            binary_labels.append(np.ones(n_timesteps))\n",
        "        else:\n",
        "            binary_labels.append(np.zeros(n_timesteps))\n",
        "    return binary_labels\n",
        "\n",
        "# get list of labels as 0 and 1\n",
        "train_label_list = binary_label(labels)\n",
        "\n",
        "# get x_train and Normalize it so all numbers get scaled between 0-1\n",
        "input_data = df.values\n",
        "min_max_scaler = preprocessing.MinMaxScaler()\n",
        "x_train_scaled = min_max_scaler.fit_transform(input_data)\n",
        "\n",
        "# reshaping the data to get the original shape of the input data\n",
        "x_train= x_train_scaled.reshape(num_videos, n_timesteps, vector_size)\n",
        "y_train = np.asarray(train_label_list)     #convert label list to numpy array\n",
        "\n",
        "print(x_train.shape)\n",
        "print (y_train.shape)\n"
      ],
      "execution_count": 0,
      "outputs": [
        {
          "output_type": "stream",
          "text": [
            "(141, 125, 75)\n",
            "(141, 125)\n"
          ],
          "name": "stdout"
        }
      ]
    },
    {
      "cell_type": "code",
      "metadata": {
        "id": "G_pO_f2Hhssc",
        "colab_type": "code",
        "outputId": "1f923066-78e2-4a75-d431-d8b10475f33b",
        "colab": {
          "base_uri": "https://localhost:8080/",
          "height": 35
        }
      },
      "source": [
        "y_train = y_train.reshape(y_train.shape[0], y_train.shape[1], 1)\n",
        "print(y_train.shape)"
      ],
      "execution_count": 0,
      "outputs": [
        {
          "output_type": "stream",
          "text": [
            "(141, 125, 1)\n"
          ],
          "name": "stdout"
        }
      ]
    },
    {
      "cell_type": "code",
      "metadata": {
        "id": "v0ClKckIiM3F",
        "colab_type": "code",
        "outputId": "7cefb286-a2d7-40af-a649-1a9819c09292",
        "colab": {
          "base_uri": "https://localhost:8080/",
          "height": 52
        }
      },
      "source": [
        "print(x_train.shape)\n",
        "print (y_train.shape)"
      ],
      "execution_count": 0,
      "outputs": [
        {
          "output_type": "stream",
          "text": [
            "(141, 125, 75)\n",
            "(141, 125, 1)\n"
          ],
          "name": "stdout"
        }
      ]
    },
    {
      "cell_type": "markdown",
      "metadata": {
        "id": "ajf7eE2hiS7W",
        "colab_type": "text"
      },
      "source": [
        "## Model Configuration"
      ]
    },
    {
      "cell_type": "code",
      "metadata": {
        "id": "fyK7FNVWiOtx",
        "colab_type": "code",
        "outputId": "07f32021-5a1d-4677-b2fb-65bfec5f7f16",
        "colab": {
          "base_uri": "https://localhost:8080/",
          "height": 248
        }
      },
      "source": [
        "## Deep learning model:\n",
        "from tensorflow.python.keras import Sequential\n",
        "from tensorflow.python.keras.layers import Dense, LSTM, Dropout\n",
        "from keras import optimizers\n",
        "\n",
        "n_timesteps = 125   # same as maxlen padded   \n",
        "n_features = 75    # same as vector size of landmark\n",
        "cells = 5       \n",
        "\n",
        "model = Sequential()\n",
        "model.add(LSTM(cells, input_shape=(n_timesteps,n_features), dropout=0.1, recurrent_dropout=0.5, return_sequences = True))\n",
        "model.add(Dense(1))\n",
        "model.summary()\n",
        "\n",
        "model.compile(loss='binary_crossentropy', optimizer='adam', metrics=['accuracy'])                   # optmizer='rmsprop'/ 'sgd' "
      ],
      "execution_count": 0,
      "outputs": [
        {
          "output_type": "stream",
          "text": [
            "Using TensorFlow backend.\n"
          ],
          "name": "stderr"
        },
        {
          "output_type": "stream",
          "text": [
            "Model: \"sequential\"\n",
            "_________________________________________________________________\n",
            "Layer (type)                 Output Shape              Param #   \n",
            "=================================================================\n",
            "lstm (LSTM)                  (None, 125, 5)            1620      \n",
            "_________________________________________________________________\n",
            "dense (Dense)                (None, 125, 1)            6         \n",
            "=================================================================\n",
            "Total params: 1,626\n",
            "Trainable params: 1,626\n",
            "Non-trainable params: 0\n",
            "_________________________________________________________________\n"
          ],
          "name": "stdout"
        }
      ]
    },
    {
      "cell_type": "code",
      "metadata": {
        "id": "uPH7AhQkiW9p",
        "colab_type": "code",
        "outputId": "be0e3fab-f9a3-4771-fca2-d1c26510c2e6",
        "colab": {
          "base_uri": "https://localhost:8080/",
          "height": 301
        }
      },
      "source": [
        "epochs = 8    #10\n",
        "history = model.fit(x=x_train, y=y_train, validation_split = 0.15, batch_size=5, epochs=epochs, shuffle=True)"
      ],
      "execution_count": 0,
      "outputs": [
        {
          "output_type": "stream",
          "text": [
            "Epoch 1/8\n",
            "24/24 [==============================] - 3s 106ms/step - loss: 0.6135 - accuracy: 0.7291 - val_loss: 0.4748 - val_accuracy: 0.8327\n",
            "Epoch 2/8\n",
            "24/24 [==============================] - 2s 91ms/step - loss: 0.4487 - accuracy: 0.8522 - val_loss: 0.3852 - val_accuracy: 0.9160\n",
            "Epoch 3/8\n",
            "24/24 [==============================] - 2s 92ms/step - loss: 0.3692 - accuracy: 0.8713 - val_loss: 0.3119 - val_accuracy: 0.9196\n",
            "Epoch 4/8\n",
            "24/24 [==============================] - 2s 89ms/step - loss: 0.3510 - accuracy: 0.8508 - val_loss: 0.2442 - val_accuracy: 0.9116\n",
            "Epoch 5/8\n",
            "24/24 [==============================] - 2s 89ms/step - loss: 0.3177 - accuracy: 0.8711 - val_loss: 0.2131 - val_accuracy: 0.9193\n",
            "Epoch 6/8\n",
            "24/24 [==============================] - 2s 90ms/step - loss: 0.2849 - accuracy: 0.8957 - val_loss: 0.2286 - val_accuracy: 0.9465\n",
            "Epoch 7/8\n",
            "24/24 [==============================] - 2s 93ms/step - loss: 0.3093 - accuracy: 0.8741 - val_loss: 0.1811 - val_accuracy: 0.9284\n",
            "Epoch 8/8\n",
            "24/24 [==============================] - 2s 95ms/step - loss: 0.2723 - accuracy: 0.8992 - val_loss: 0.1767 - val_accuracy: 0.9615\n"
          ],
          "name": "stdout"
        }
      ]
    },
    {
      "cell_type": "markdown",
      "metadata": {
        "id": "d9R-ZfeDiki1",
        "colab_type": "text"
      },
      "source": [
        "## Saving the trained model"
      ]
    },
    {
      "cell_type": "code",
      "metadata": {
        "id": "54aRPzd3icAZ",
        "colab_type": "code",
        "outputId": "1128dc5c-4f84-4609-e3ed-c13d3740b389",
        "colab": {
          "base_uri": "https://localhost:8080/",
          "height": 35
        }
      },
      "source": [
        "import json\n",
        "\n",
        "model_dir = '/content/drive/My Drive/Google_Colab/saved_models'\n",
        "\n",
        "model_json = model.to_json()\n",
        "with open(model_dir + \"/P06_LSTM_model7.json\", \"w\") as json_file:\n",
        "    json_file.write(model_json)\n",
        "    # serialize weights to HDF5\n",
        "model.save_weights(model_dir + \"/P06_LSTM_model7.h5\")\n",
        "print(\"Saved model to disk\")"
      ],
      "execution_count": 0,
      "outputs": [
        {
          "output_type": "stream",
          "text": [
            "Saved model to disk\n"
          ],
          "name": "stdout"
        }
      ]
    },
    {
      "cell_type": "markdown",
      "metadata": {
        "id": "1zfmBXyqi6m0",
        "colab_type": "text"
      },
      "source": [
        "## Plotting Results"
      ]
    },
    {
      "cell_type": "code",
      "metadata": {
        "id": "dfnvuif1izKE",
        "colab_type": "code",
        "outputId": "9b233714-2014-4660-9efd-ea93b2288828",
        "colab": {
          "base_uri": "https://localhost:8080/",
          "height": 563
        }
      },
      "source": [
        "import matplotlib.pyplot as plt\n",
        "\n",
        "acc = history.history['accuracy']\n",
        "val_acc = history.history['val_accuracy']\n",
        "loss = history.history['loss']\n",
        "val_loss = history.history['val_loss']\n",
        "\n",
        "epochs = range(1, len(acc) + 1)\n",
        "\n",
        "# Plot Training and Validation accuracy over epoch\n",
        "plt.plot(epochs, acc, 'bo', label='Training acc')\n",
        "plt.plot(epochs, val_acc, 'b', label='Validation acc')\n",
        "plt.title('Training and validation accuracy')\n",
        "plt.legend()\n",
        "\n",
        "plt.figure()\n",
        "\n",
        "# Plot Training and Validation loss over epoch\n",
        "plt.plot(epochs, loss, 'bo', label='Training loss')\n",
        "plt.plot(epochs, val_loss, 'b', label='Validation loss')\n",
        "plt.title('Training and validation loss')\n",
        "plt.legend()"
      ],
      "execution_count": 0,
      "outputs": [
        {
          "output_type": "execute_result",
          "data": {
            "text/plain": [
              "<matplotlib.legend.Legend at 0x7f9152ec1f98>"
            ]
          },
          "metadata": {
            "tags": []
          },
          "execution_count": 11
        },
        {
          "output_type": "display_data",
          "data": {
            "image/png": "[encoded data removed]",
            "text/plain": [
              "<Figure size 432x288 with 1 Axes>"
            ]
          },
          "metadata": {
            "tags": [],
            "needs_background": "light"
          }
        },
        {
          "output_type": "display_data",
          "data": {
            "image/png": "[encoded data removed]",
            "text/plain": [
              "<Figure size 432x288 with 1 Axes>"
            ]
          },
          "metadata": {
            "tags": [],
            "needs_background": "light"
          }
        }
      ]
    },
    {
      "cell_type": "code",
      "metadata": {
        "id": "hhvn3YgEi9Mw",
        "colab_type": "code",
        "colab": {}
      },
      "source": [
        ""
      ],
      "execution_count": 0,
      "outputs": []
    }
  ]
}