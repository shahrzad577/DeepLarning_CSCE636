{
 "cells": [
  {
   "cell_type": "code",
   "execution_count": 1,
   "metadata": {},
   "outputs": [
    {
     "name": "stderr",
     "output_type": "stream",
     "text": [
      "Using TensorFlow backend.\n"
     ]
    }
   ],
   "source": [
    "import cv2     # for capturing videos\n",
    "import matplotlib.pyplot as plt    # for plotting the images\n",
    "%matplotlib inline\n",
    "import pandas as pd\n",
    "from keras.preprocessing import image   # for preprocessing the images\n",
    "from keras.utils import to_categorical\n",
    "import numpy as np    \n",
    "import os\n",
    "import glob\n",
    "from keras.preprocessing.image import ImageDataGenerator\n",
    "from keras import optimizers"
   ]
  },
  {
   "cell_type": "markdown",
   "metadata": {},
   "source": [
    "## Model evaluation from saved model (trained in google Colab)"
   ]
  },
  {
   "cell_type": "code",
   "execution_count": 2,
   "metadata": {},
   "outputs": [
    {
     "name": "stdout",
     "output_type": "stream",
     "text": [
      "Loaded model from disk\n"
     ]
    }
   ],
   "source": [
    "# loading model:\n",
    "\n",
    "from keras.models import model_from_json\n",
    "\n",
    "model_dir = \"D:\\\\tamu\\\\courses\\\\DeepLearning\\\\ProjectPart4\\\\results\\\\models\"\n",
    "\n",
    "\n",
    "json_file = open(model_dir +'\\\\model_LSTM_json.json')\n",
    "loaded_model_json = json_file.read()\n",
    "json_file.close()\n",
    "\n",
    "loaded_model = model_from_json(loaded_model_json)\n",
    "# load weights into new model\n",
    "loaded_model.load_weights(model_dir + '\\\\model_LSTM_weight.h5')\n",
    "print(\"Loaded model from disk\")"
   ]
  },
  {
   "cell_type": "code",
   "execution_count": 3,
   "metadata": {},
   "outputs": [],
   "source": [
    "# bring model\n",
    "\n",
    "from keras.models import Sequential\n",
    "from keras.layers import Conv2D, Dropout,Flatten, MaxPooling2D, BatchNormalization, TimeDistributed\n",
    "from keras.layers import LSTM, Dense\n",
    "\n",
    "\n",
    "n_timesteps = 10                                        \n",
    "lstm_cells =5\n",
    "\n",
    "model = Sequential()\n",
    "model.add(TimeDistributed(Conv2D (16, (3,3), activation = 'relu'),\n",
    "                                  input_shape = (n_timesteps, 250,250,3)))      \n",
    "model.add(TimeDistributed(Conv2D (32, (3,3), activation = 'relu')))             \n",
    "model.add(TimeDistributed(Dropout(0.5)))\n",
    "model.add(TimeDistributed(MaxPooling2D((2,2))))        \n",
    "model.add(TimeDistributed(Dropout(0.5)))\n",
    "model.add(TimeDistributed(BatchNormalization()))\n",
    "model.add(TimeDistributed(MaxPooling2D((2,2))))\n",
    "model.add(TimeDistributed(Flatten()))                                                     \n",
    "\n",
    "model.add(LSTM(units = lstm_cells, return_sequences = True, dropout=0.1, recurrent_dropout=0.5))\n",
    "model.add(Dense(1, activation='sigmoid'))\n",
    "#model.summary()"
   ]
  },
  {
   "cell_type": "code",
   "execution_count": 4,
   "metadata": {},
   "outputs": [],
   "source": [
    "from keras import optimizers\n",
    "\n",
    "model.compile(loss='binary_crossentropy', optimizer=optimizers.RMSprop(lr=2e-5), metrics=['accuracy'])"
   ]
  },
  {
   "cell_type": "markdown",
   "metadata": {},
   "source": [
    "### To test this model with your test video:\n",
    "1. put the test video in a directory--> change the test_video_dir path based on your directory \n",
    "2. define a directory for captured images --> change the path of test_img_dir\n",
    "3. Check the frames. the number of frames need to be coefficient of 10. The reson is my input shape data for traning\n",
    "so adjust the number of frames (either copy some frames or delet some so the len (os.listdir(test_img_dir)) = 10*n\n",
    "4. do labeling in a csv file (same as the sample uploaded for my tets videos)\n",
    "5. read the csv file as dataframe ( remember to rename the csv file path based on the name of your csv file)\n",
    "6. if json file is needed remember to change the path file for saving timelabel.json / also change the vid_len parameter based on the time of the video you are testing\n",
    "7. Run the rest of the code without change"
   ]
  },
  {
   "cell_type": "code",
   "execution_count": 211,
   "metadata": {},
   "outputs": [],
   "source": [
    "test_video_dir = \"D:\\\\tamu\\\\courses\\\\DeepLearning\\\\ProjectPart4\\\\test_video\\\\test\"\n",
    "test_img_dir = \"D:\\\\tamu\\\\courses\\\\DeepLearning\\\\ProjectPart4\\\\test_img\\\\test5\""
   ]
  },
  {
   "cell_type": "code",
   "execution_count": 175,
   "metadata": {},
   "outputs": [],
   "source": [
    "def get_frames(video_path, dest_path):\n",
    "    file_name = video_path.split('.')[0].split('\\\\')[-1]\n",
    "    vidcap = cv2.VideoCapture(video_path)\n",
    "\n",
    "    sec = 0\n",
    "    frameRate = 0.5           #//it will capture image in each 0.5 second\n",
    "    count = 1\n",
    "    hasFrames = True\n",
    "    while hasFrames:\n",
    "        vidcap.set(cv2.CAP_PROP_POS_MSEC,sec*1000)\n",
    "        hasFrames,image = vidcap.read()\n",
    "        if hasFrames:\n",
    "            cv2.imwrite(dest_path+'\\\\'+file_name+'_'+ str(count)+\".jpg\", image)     # save frame as JPG file\n",
    "\n",
    "        count = count + 1\n",
    "        sec = sec + frameRate\n",
    "        sec = round(sec, 2)"
   ]
  },
  {
   "cell_type": "code",
   "execution_count": 176,
   "metadata": {},
   "outputs": [],
   "source": [
    "# getting captions from videos and put them in related derectories:\n",
    "\n",
    "for i in range(len(os.listdir(test_video_dir))):\n",
    "    video_path = test_video_dir + '\\\\' + os.listdir(test_video_dir)[i]\n",
    "    dest_path = test_img_dir\n",
    "\n",
    "    get_frames(video_path, dest_path)"
   ]
  },
  {
   "cell_type": "code",
   "execution_count": 7,
   "metadata": {},
   "outputs": [
    {
     "name": "stdout",
     "output_type": "stream",
     "text": [
      "200\n"
     ]
    }
   ],
   "source": [
    "'''\n",
    "import os\n",
    "\n",
    "test_label =[]\n",
    "for file in os.listdir(test_img_dir):\n",
    "    label = file.split('_')[0]\n",
    "    if label == 'other':\n",
    "        test_label.append(0)\n",
    "    else:\n",
    "        test_label.append(1)\n",
    "print (len(test_label))\n",
    "'''"
   ]
  },
  {
   "cell_type": "code",
   "execution_count": 212,
   "metadata": {},
   "outputs": [],
   "source": [
    "# Testing long video consisting multiple actions\n",
    "\n",
    "csv_path = \"D:\\\\tamu\\\\courses\\\\DeepLearning\\\\ProjectPart4\\\\test_labels\"\n",
    "\n",
    "df = pd.read_csv(csv_path + \"\\\\sample5.csv\")\n",
    "test_label = df ['Label'].tolist()"
   ]
  },
  {
   "cell_type": "code",
   "execution_count": 213,
   "metadata": {},
   "outputs": [],
   "source": [
    "import glob\n",
    "import cv2\n",
    "\n",
    "def get_Xtrain(file_name):\n",
    "    X_train = []\n",
    "    for i , filename in enumerate(glob.glob(file_name)):\n",
    "        image = cv2.imread(filename)\n",
    "        res_img = cv2.resize(image, dsize=(250,250), interpolation=cv2.INTER_CUBIC)\n",
    "        X_train.append(res_img)\n",
    "    \n",
    "    return X_train \n",
    "\n",
    "X_t = get_Xtrain(test_img_dir + '\\\\*.jpg')"
   ]
  },
  {
   "cell_type": "code",
   "execution_count": 214,
   "metadata": {},
   "outputs": [
    {
     "name": "stdout",
     "output_type": "stream",
     "text": [
      "x_test.shape:  (60, 250, 250, 3)\n",
      "y_test.shape:  (60,)\n"
     ]
    }
   ],
   "source": [
    "import numpy as np\n",
    "\n",
    "x_test = np.asarray(X_t)\n",
    "y_test = np.asarray(test_label)\n",
    "\n",
    "print('x_test.shape: ', x_test.shape)\n",
    "print('y_test.shape: ', y_test.shape)"
   ]
  },
  {
   "cell_type": "code",
   "execution_count": 215,
   "metadata": {},
   "outputs": [],
   "source": [
    "x_test = x_test/x_test.max()      "
   ]
  },
  {
   "cell_type": "code",
   "execution_count": 216,
   "metadata": {},
   "outputs": [
    {
     "name": "stdout",
     "output_type": "stream",
     "text": [
      "(6, 10, 250, 250, 3)\n",
      "(6, 10)\n"
     ]
    }
   ],
   "source": [
    "x = []\n",
    "y = []\n",
    "for i in range(0, x_test.shape[0], 10):\n",
    "    x.append(x_test[i:(i+10)])\n",
    "    y.append(y_test[i:(i+10)])\n",
    "\n",
    "x = np.asarray(x)\n",
    "y = np.asarray(y)\n",
    "print(x.shape)\n",
    "print(y.shape)\n",
    "\n",
    "x_test = x\n",
    "y_test = y"
   ]
  },
  {
   "cell_type": "code",
   "execution_count": 217,
   "metadata": {},
   "outputs": [
    {
     "name": "stdout",
     "output_type": "stream",
     "text": [
      "(6, 10, 1)\n"
     ]
    }
   ],
   "source": [
    "y_test = y_test.reshape(y_test.shape[0], 10,1)\n",
    "print(y_test.shape)"
   ]
  },
  {
   "cell_type": "code",
   "execution_count": 218,
   "metadata": {},
   "outputs": [
    {
     "name": "stdout",
     "output_type": "stream",
     "text": [
      "6/6 [==============================] - 1s 193ms/step\n",
      "accuracy: 58.33%\n"
     ]
    }
   ],
   "source": [
    "scores = model.evaluate(x_test, y_test)\n",
    "print(\"%s: %.2f%%\" % (model.metrics_names[1], scores[1]*100))"
   ]
  },
  {
   "cell_type": "markdown",
   "metadata": {},
   "source": [
    "### Timelabel.json"
   ]
  },
  {
   "cell_type": "code",
   "execution_count": 219,
   "metadata": {},
   "outputs": [
    {
     "data": {
      "text/plain": [
       "6"
      ]
     },
     "execution_count": 219,
     "metadata": {},
     "output_type": "execute_result"
    }
   ],
   "source": [
    "predictions = model.predict(x= x_test)\n",
    "len(predictions)"
   ]
  },
  {
   "cell_type": "code",
   "execution_count": 220,
   "metadata": {},
   "outputs": [],
   "source": [
    "import json\n",
    "\n",
    "vid_len = 30\n",
    "n = len(X_t)\n",
    "\n",
    "preds = predictions.reshape(len(X_t),)\n",
    "test_label\n",
    "\n",
    "json = \"{\\\"push\\\":[\"\n",
    "values = []\n",
    "#time = 0\n",
    "times = np.linspace(0.1,vid_len,n)\n",
    "\n",
    "for i in range(len(preds)):\n",
    "    l = \"[\"\n",
    "    #time += 0.5\n",
    "    time = times[i]\n",
    "    l += str(time)\n",
    "    l += ','\n",
    "    l += str(preds[i])\n",
    "    l += \"]\"\n",
    "    l += \",\"\n",
    "    json += l\n",
    "\n",
    "json = json[:-1]\n",
    "    \n",
    "json += \"]}\"\n",
    "\n",
    "\n",
    "with open(model_dir+'\\\\timelabel_5_data.json', 'w') as f:\n",
    "    f.write(json)"
   ]
  },
  {
   "cell_type": "markdown",
   "metadata": {},
   "source": [
    "## Timelabel plot"
   ]
  },
  {
   "cell_type": "code",
   "execution_count": 221,
   "metadata": {},
   "outputs": [
    {
     "name": "stderr",
     "output_type": "stream",
     "text": [
      "No handles with labels found to put in legend.\n"
     ]
    },
    {
     "data": {
      "text/plain": [
       "<Figure size 432x288 with 0 Axes>"
      ]
     },
     "execution_count": 221,
     "metadata": {},
     "output_type": "execute_result"
    },
    {
     "data": {
      "image/png": "[encoded data removed]",
      "text/plain": [
       "<Figure size 432x288 with 1 Axes>"
      ]
     },
     "metadata": {
      "needs_background": "light"
     },
     "output_type": "display_data"
    },
    {
     "data": {
      "text/plain": [
       "<Figure size 432x288 with 0 Axes>"
      ]
     },
     "metadata": {},
     "output_type": "display_data"
    }
   ],
   "source": [
    "#prediction = preds\n",
    "\n",
    "# Plot Training and Validation accuracy over epoch\n",
    "plt.plot(times, preds)\n",
    "plt.title('Training and validation accuracy')\n",
    "plt.legend()\n",
    "\n",
    "plt.figure()"
   ]
  },
  {
   "cell_type": "code",
   "execution_count": null,
   "metadata": {},
   "outputs": [],
   "source": []
  }
 ],
 "metadata": {
  "kernelspec": {
   "display_name": "Python 3",
   "language": "python",
   "name": "python3"
  },
  "language_info": {
   "codemirror_mode": {
    "name": "ipython",
    "version": 3
   },
   "file_extension": ".py",
   "mimetype": "text/x-python",
   "name": "python",
   "nbconvert_exporter": "python",
   "pygments_lexer": "ipython3",
   "version": "3.7.4"
  }
 },
 "nbformat": 4,
 "nbformat_minor": 2
}
