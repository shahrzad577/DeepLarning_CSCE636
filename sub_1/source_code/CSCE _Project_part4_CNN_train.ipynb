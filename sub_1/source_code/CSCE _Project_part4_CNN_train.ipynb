{
 "cells": [
  {
   "cell_type": "markdown",
   "metadata": {},
   "source": [
    "### This model is trained on google colab with more number of data ( detail explained in report)"
   ]
  },
  {
   "cell_type": "code",
   "execution_count": 1,
   "metadata": {},
   "outputs": [
    {
     "name": "stderr",
     "output_type": "stream",
     "text": [
      "Using TensorFlow backend.\n"
     ]
    }
   ],
   "source": [
    "import cv2     # for capturing videos\n",
    "import matplotlib.pyplot as plt    # for plotting the images\n",
    "%matplotlib inline\n",
    "import pandas as pd\n",
    "from keras.preprocessing import image   # for preprocessing the images\n",
    "from keras.utils import to_categorical\n",
    "import numpy as np    \n",
    "import os\n",
    "import glob\n",
    "from keras.preprocessing.image import ImageDataGenerator\n",
    "from keras import optimizers\n",
    "from keras import models\n",
    "from keras import layers"
   ]
  },
  {
   "cell_type": "code",
   "execution_count": 9,
   "metadata": {},
   "outputs": [],
   "source": [
    "# Renaming this code only one time\n",
    "\n",
    "def rename_file (path , name):\n",
    "    i=0                                         \n",
    "    for filename in os.listdir(path):\n",
    "        os.rename(os.path.join(path,filename), os.path.join(path, name + str(i)+'.avi'))\n",
    "        i = i +1\n",
    "\n",
    "#all_video_push = \"D:\\\\tamu\\\\courses\\\\DeepLearning\\\\ProjectPart4\\\\pushing\"\n",
    "all_video_other = \"D:\\\\tamu\\\\courses\\\\DeepLearning\\\\ProjectPart4\\\\other\"\n",
    "\n",
    "#rename_file(all_video_push, 'push_')\n",
    "rename_file(all_video_other, 'other_')"
   ]
  },
  {
   "cell_type": "code",
   "execution_count": 2,
   "metadata": {},
   "outputs": [],
   "source": [
    "# after renaming all videos (push and other) are manually pasted in one directory --> video_dir\n",
    "video_dir = \"D:\\\\tamu\\\\courses\\\\DeepLearning\\\\ProjectPart4\\\\all_video\"\n",
    "img_dir = \"D:\\\\tamu\\\\courses\\\\DeepLearning\\\\ProjectPart4\\\\all_img\""
   ]
  },
  {
   "cell_type": "markdown",
   "metadata": {},
   "source": [
    "## capture video"
   ]
  },
  {
   "cell_type": "code",
   "execution_count": 7,
   "metadata": {},
   "outputs": [],
   "source": [
    "def get_frames(video_path, dest_path):\n",
    "    file_name = video_path.split('.')[0].split('\\\\')[-1]\n",
    "    vidcap = cv2.VideoCapture(video_path)\n",
    "\n",
    "    sec = 0\n",
    "    frameRate = 0.5 #//it will capture image in each 0.5 second\n",
    "    count = 1\n",
    "    hasFrames = True\n",
    "    while hasFrames:\n",
    "        vidcap.set(cv2.CAP_PROP_POS_MSEC,sec*1000)\n",
    "        hasFrames,image = vidcap.read()\n",
    "        if hasFrames:\n",
    "            cv2.imwrite(dest_path+'\\\\'+file_name+'_'+ str(count)+\".jpg\", image)     # save frame as JPG file\n",
    "\n",
    "        count = count + 1\n",
    "        sec = sec + frameRate\n",
    "        sec = round(sec, 2)"
   ]
  },
  {
   "cell_type": "code",
   "execution_count": 10,
   "metadata": {},
   "outputs": [],
   "source": [
    "# getting captions from videos and put them in related derectories:\n",
    "\n",
    "video_dir = \"D:\\\\tamu\\\\courses\\\\DeepLearning\\\\ProjectPart4\\\\other\"\n",
    "img_dir = \"D:\\\\tamu\\\\courses\\\\DeepLearning\\\\ProjectPart4\\\\other_img\"\n",
    "\n",
    "for i in range(len(os.listdir(video_dir))):\n",
    "    video_path = video_dir + '\\\\' + os.listdir(video_dir)[i]\n",
    "    dest_path = img_dir\n",
    "\n",
    "    get_frames(video_path, dest_path)"
   ]
  },
  {
   "cell_type": "markdown",
   "metadata": {},
   "source": [
    "### Getting labels\n",
    "assign 0 to the images labeled as 'other' and assign 1 to the images labeld as 'push'"
   ]
  },
  {
   "cell_type": "code",
   "execution_count": 5,
   "metadata": {},
   "outputs": [
    {
     "name": "stdout",
     "output_type": "stream",
     "text": [
      "670\n"
     ]
    }
   ],
   "source": [
    "train_label =[]\n",
    "for file in os.listdir(img_dir):\n",
    "    label = file.split('_')[0]\n",
    "    if label == 'other':\n",
    "        train_label.append(0)\n",
    "    else:\n",
    "        train_label.append(1)\n",
    "print (len(train_label))"
   ]
  },
  {
   "cell_type": "markdown",
   "metadata": {},
   "source": [
    "### Image preprocessing\n",
    "- I have two sets of videos. the first sets are videos taken by me vertically and the frames sizes are (720, 406, 3)\n",
    "- the second sets are the video from internet dataset get frames with size of (240, 320, 3)\n",
    "- So I have done some preprocessing to make them all the same size. (cropying the images with size (720, 406, 3) to (500, 406, 3), then resize them to (250,250,3)\n",
    "- And resize frames with with size of (240, 320, 3) to (250,250,3) ==> in the end all frames have the same size of (250,250,3)"
   ]
  },
  {
   "cell_type": "code",
   "execution_count": 6,
   "metadata": {},
   "outputs": [],
   "source": [
    "def get_Xtrain(file_name):\n",
    "    X_train = []\n",
    "    for i , filename in enumerate(glob.glob(file_name)):\n",
    "        image = cv2.imread(filename)\n",
    "        res_img = cv2.resize(image, dsize=(250,250), interpolation=cv2.INTER_CUBIC)\n",
    "        X_train.append(res_img)\n",
    "    \n",
    "    return X_train \n",
    "\n",
    "X = get_Xtrain(img_dir + '\\\\*.jpg')"
   ]
  },
  {
   "cell_type": "code",
   "execution_count": 7,
   "metadata": {},
   "outputs": [
    {
     "data": {
      "text/plain": [
       "(250, 250, 3)"
      ]
     },
     "execution_count": 7,
     "metadata": {},
     "output_type": "execute_result"
    }
   ],
   "source": [
    "# checking the size of the resized images (X)\n",
    "X[0].shape"
   ]
  },
  {
   "cell_type": "markdown",
   "metadata": {},
   "source": [
    "## Get Numpy array of images"
   ]
  },
  {
   "cell_type": "code",
   "execution_count": 8,
   "metadata": {},
   "outputs": [],
   "source": [
    "#transfering the train_list and label_list to array\n",
    "X = np.asarray(X)\n",
    "y = np.asarray(train_label)"
   ]
  },
  {
   "cell_type": "code",
   "execution_count": 9,
   "metadata": {},
   "outputs": [
    {
     "name": "stdout",
     "output_type": "stream",
     "text": [
      "X.shape:  (670, 250, 250, 3)\n",
      "y.shape:  (670,)\n"
     ]
    }
   ],
   "source": [
    "print('X.shape: ', X.shape)\n",
    "print('y.shape: ', y.shape)"
   ]
  },
  {
   "cell_type": "code",
   "execution_count": 10,
   "metadata": {},
   "outputs": [],
   "source": [
    "## Normalizing X dataset:\n",
    "X = X/X.max()                  "
   ]
  },
  {
   "cell_type": "code",
   "execution_count": 11,
   "metadata": {},
   "outputs": [],
   "source": [
    "## split data to train and validation\n",
    "from sklearn.model_selection import train_test_split\n",
    "\n",
    "x_train, x_valid, y_train, y_valid = train_test_split(X, y, test_size=0.3, random_state=42)  #by default shuffle is true"
   ]
  },
  {
   "cell_type": "markdown",
   "metadata": {},
   "source": [
    "## Model Configuration\n",
    "#### Using pre-trained model: Two ways to proceed:\n",
    "1. Running the conv_base over our dataset, record the out put as numpy array and use this data as input to a standalone densely connected classifier. ==> fast and cheap , but does not allow data augmentation\n",
    "2. exted the conv_base by adding Dense layers on top, run the whole model end to end ==> far more expensive, But allows data augmentation \n",
    "##### For this submission I use the second method"
   ]
  },
  {
   "cell_type": "code",
   "execution_count": 23,
   "metadata": {},
   "outputs": [],
   "source": [
    "# Transfer Learning using pre-trained model\n",
    "\n",
    "from keras.applications import VGG16\n",
    "\n",
    "conv_base = VGG16(weights= 'imagenet', include_top=False, input_shape=(x_train.shape[1], x_train.shape[2], 3))\n",
    "\n",
    "#if you don't give the input shape, it will retrieve it from data\n",
    "#conv_base.summary()"
   ]
  },
  {
   "cell_type": "code",
   "execution_count": 24,
   "metadata": {},
   "outputs": [],
   "source": [
    "conv_base.trainable = False"
   ]
  },
  {
   "cell_type": "code",
   "execution_count": 25,
   "metadata": {},
   "outputs": [
    {
     "name": "stdout",
     "output_type": "stream",
     "text": [
      "Model: \"sequential_2\"\n",
      "_________________________________________________________________\n",
      "Layer (type)                 Output Shape              Param #   \n",
      "=================================================================\n",
      "vgg16 (Model)                (None, 7, 7, 512)         14714688  \n",
      "_________________________________________________________________\n",
      "flatten_2 (Flatten)          (None, 25088)             0         \n",
      "_________________________________________________________________\n",
      "dense_4 (Dense)              (None, 512)               12845568  \n",
      "_________________________________________________________________\n",
      "dense_5 (Dense)              (None, 256)               131328    \n",
      "_________________________________________________________________\n",
      "dense_6 (Dense)              (None, 1)                 257       \n",
      "=================================================================\n",
      "Total params: 27,691,841\n",
      "Trainable params: 12,977,153\n",
      "Non-trainable params: 14,714,688\n",
      "_________________________________________________________________\n"
     ]
    }
   ],
   "source": [
    "\n",
    "model = models.Sequential()\n",
    "model.add(conv_base)\n",
    "model.add(layers.Flatten())\n",
    "model.add(layers.Dense(512, activation='relu'))\n",
    "model.add(layers.Dense(256, activation='relu'))\n",
    "model.add(layers.Dense(1, activation='sigmoid'))\n",
    "          \n",
    "model.summary()"
   ]
  },
  {
   "cell_type": "code",
   "execution_count": 15,
   "metadata": {},
   "outputs": [],
   "source": [
    "model.compile(loss='binary_crossentropy',\n",
    "              optimizer=optimizers.RMSprop(lr=2e-5),\n",
    "              metrics=['acc'])"
   ]
  },
  {
   "cell_type": "code",
   "execution_count": 16,
   "metadata": {},
   "outputs": [],
   "source": [
    "#y_train = to_categorical(y_train, num_classes=2)       #No need to hot encode if you use binary\n",
    "#y_valid = to_categorical(y_valid, num_classes=2)\n",
    "\n",
    "# applying data augmentation on train set\n",
    "datagen = ImageDataGenerator(\n",
    "    featurewise_center=True,\n",
    "    featurewise_std_normalization=True,\n",
    "    rotation_range=20,\n",
    "    width_shift_range=0.2,\n",
    "    height_shift_range=0.2,\n",
    "    horizontal_flip=True)\n",
    "\n",
    "datagen.fit(x_train)\n"
   ]
  },
  {
   "cell_type": "code",
   "execution_count": 17,
   "metadata": {},
   "outputs": [],
   "source": [
    "validation_datagen = ImageDataGenerator()       # no augmentation for validation set\n",
    "validation_datagen.fit(x_valid)"
   ]
  },
  {
   "cell_type": "code",
   "execution_count": 18,
   "metadata": {},
   "outputs": [
    {
     "name": "stdout",
     "output_type": "stream",
     "text": [
      "Epoch 1/3\n",
      "15/14 [==============================] - 199s 13s/step - loss: 0.3881 - acc: 0.8635 - val_loss: 0.2197 - val_acc: 0.9801\n",
      "Epoch 2/3\n",
      "15/14 [==============================] - 188s 13s/step - loss: 0.1531 - acc: 0.9723 - val_loss: 0.1205 - val_acc: 0.9801\n",
      "Epoch 3/3\n",
      "15/14 [==============================] - 188s 13s/step - loss: 0.0818 - acc: 0.9893 - val_loss: 0.1755 - val_acc: 0.9950\n"
     ]
    }
   ],
   "source": [
    "epochs = 3\n",
    "history = model.fit_generator(datagen.flow(x_train, y_train, batch_size=32),\n",
    "                    steps_per_epoch=len(x_train) / 32, epochs=epochs,\n",
    "                              validation_data=validation_datagen.flow(x_valid, y_valid, batch_size=32))"
   ]
  },
  {
   "cell_type": "markdown",
   "metadata": {},
   "source": [
    "### save the model"
   ]
  },
  {
   "cell_type": "code",
   "execution_count": 21,
   "metadata": {},
   "outputs": [
    {
     "name": "stdout",
     "output_type": "stream",
     "text": [
      "Saved model to disk\n"
     ]
    }
   ],
   "source": [
    "import json\n",
    "\n",
    "model_dir = \"D:\\\\tamu\\\\courses\\\\DeepLearning\\\\ProjectPart4\\\\results\"\n",
    "\n",
    "model_json = model.to_json()\n",
    "with open(model_dir + \"\\\\zz_CNN_model.json\", \"w\") as json_file:\n",
    "    json_file.write(model_json)\n",
    "    # serialize weights to HDF5\n",
    "model.save_weights(model_dir + \"\\\\zz_CNN_model.h5\")\n",
    "print(\"Saved model to disk\")"
   ]
  },
  {
   "cell_type": "markdown",
   "metadata": {},
   "source": [
    "## Plotting the result"
   ]
  },
  {
   "cell_type": "code",
   "execution_count": 19,
   "metadata": {},
   "outputs": [
    {
     "data": {
      "text/plain": [
       "<matplotlib.legend.Legend at 0x13abc8fbd08>"
      ]
     },
     "execution_count": 19,
     "metadata": {},
     "output_type": "execute_result"
    },
    {
     "data": {
      "image/png": "[encoded data removed]",
      "text/plain": [
       "<Figure size 432x288 with 1 Axes>"
      ]
     },
     "metadata": {
      "needs_background": "light"
     },
     "output_type": "display_data"
    },
    {
     "data": {
      "image/png": "[encoded data removed]",
      "text/plain": [
       "<Figure size 432x288 with 1 Axes>"
      ]
     },
     "metadata": {
      "needs_background": "light"
     },
     "output_type": "display_data"
    }
   ],
   "source": [
    "acc = history.history['acc']\n",
    "val_acc = history.history['val_acc']\n",
    "loss = history.history['loss']\n",
    "val_loss = history.history['val_loss']\n",
    "\n",
    "epochs = range(1, len(acc) + 1)\n",
    "\n",
    "# Plot Training and Validation accuracy over epoch\n",
    "plt.plot(epochs, acc, 'bo', label='Training acc')\n",
    "plt.plot(epochs, val_acc, 'b', label='Validation acc')\n",
    "plt.title('Training and validation accuracy')\n",
    "plt.legend()\n",
    "\n",
    "plt.figure()\n",
    "\n",
    "# Plot Training and Validation loss over epoch\n",
    "plt.plot(epochs, loss, 'bo', label='Training loss')\n",
    "plt.plot(epochs, val_loss, 'b', label='Validation loss')\n",
    "plt.title('Training and validation loss')\n",
    "plt.legend()"
   ]
  },
  {
   "cell_type": "code",
   "execution_count": null,
   "metadata": {},
   "outputs": [],
   "source": []
  }
 ],
 "metadata": {
  "kernelspec": {
   "display_name": "Python 3",
   "language": "python",
   "name": "python3"
  },
  "language_info": {
   "codemirror_mode": {
    "name": "ipython",
    "version": 3
   },
   "file_extension": ".py",
   "mimetype": "text/x-python",
   "name": "python",
   "nbconvert_exporter": "python",
   "pygments_lexer": "ipython3",
   "version": "3.7.4"
  }
 },
 "nbformat": 4,
 "nbformat_minor": 2
}
