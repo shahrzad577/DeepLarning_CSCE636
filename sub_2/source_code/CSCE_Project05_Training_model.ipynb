{
  "nbformat": 4,
  "nbformat_minor": 0,
  "metadata": {
    "colab": {
      "name": "CSCE_Project05_Training_model.ipynb",
      "provenance": [],
      "collapsed_sections": []
    },
    "kernelspec": {
      "name": "python3",
      "display_name": "Python 3"
    }
  },
  "cells": [
    {
      "cell_type": "code",
      "metadata": {
        "id": "uqAli_P5rppu",
        "colab_type": "code",
        "outputId": "b0bc2dc3-f542-46b5-a38d-50c4049731c3",
        "colab": {
          "base_uri": "https://localhost:8080/",
          "height": 34
        }
      },
      "source": [
        "from google.colab import drive\n",
        "drive.mount('/content/drive')"
      ],
      "execution_count": 93,
      "outputs": [
        {
          "output_type": "stream",
          "text": [
            "Drive already mounted at /content/drive; to attempt to forcibly remount, call drive.mount(\"/content/drive\", force_remount=True).\n"
          ],
          "name": "stdout"
        }
      ]
    },
    {
      "cell_type": "markdown",
      "metadata": {
        "id": "DCe3UmNQt72o",
        "colab_type": "text"
      },
      "source": [
        "## Challenges Regadring Previous step ( reading json files):\n",
        "1. some json files did not have any landmark features and I assume the reason is that some frmaes of my video did not have any person in it. Forexample the person is pushing and he goes out of the camera frame! so During data preparation I faced multiple error regarding this problem. So i came over this problem by checking if object 'people' in json file was empty. This part is addressed through an if statement.\n",
        "\n",
        "2. The second challenge appeared when I trained my model for the first time. I saw that my model does not train at all and the loss, and accuracy were constant during the training. After some exploration and searching I found that during the padding I simply had padded the data to the maximum length of the videos (422 frames); and since I had some long (max: 12 second) and some short (min: 3 seconds) videos, in this way I was padding too many zero arrays for short videos and this had disruptive effect on my training specifically that most of the videos are short (3 to 7 seconds). So I padded all data to 110 frames (sort of average). And this action made my model train much better!"
      ]
    },
    {
      "cell_type": "markdown",
      "metadata": {
        "id": "QmKt4VyEtZ4r",
        "colab_type": "text"
      },
      "source": [
        "## Read the csv file (input data) and do data preprocessing"
      ]
    },
    {
      "cell_type": "code",
      "metadata": {
        "id": "To_7Sleqrssb",
        "colab_type": "code",
        "outputId": "495504fb-ab76-477c-f6ae-43d22bf484f4",
        "colab": {
          "base_uri": "https://localhost:8080/",
          "height": 52
        }
      },
      "source": [
        "import pandas as pd\n",
        "import numpy as np\n",
        "from sklearn import preprocessing\n",
        "\n",
        "base_dir = \"/content/drive/My Drive/Google_Colab\"\n",
        "df = pd.read_csv(base_dir + '/' + 'input_data_2.csv', index_col = 0)\n",
        "\n",
        "# print (df.head())\n",
        "\n",
        "labels = df.index.tolist()\n",
        "# get binary labels: if label=push, then is 1, and if label='other', then is 0\n",
        "def binary_label(labels):\n",
        "    binary_labels = []\n",
        "    for l in labels:\n",
        "        if l.split('_')[0]=='push':\n",
        "            binary_labels.append(np.ones(m))\n",
        "        else:\n",
        "            binary_labels.append(np.zeros(m))\n",
        "    return binary_labels\n",
        "\n",
        "# get list of labels as 0 and 1\n",
        "train_label_list = binary_label(labels)\n",
        "\n",
        "# get x_train and Normalize it so all numbers get scaled between 0-1\n",
        "input_data = df.values\n",
        "min_max_scaler = preprocessing.MinMaxScaler()\n",
        "x_train_scaled = min_max_scaler.fit_transform(input_data)\n",
        "\n",
        "# reshaping the data to get the original shape of the input data\n",
        "r = 100     #number of videos\n",
        "m = 125     # number of frames (padded to max-len): this info is got from last block\n",
        "n = 75    # number of landmark vector-size\n",
        "\n",
        "x_train= x_train_scaled.reshape(r, m, n)\n",
        "y_train = np.asarray(train_label_list)     #convert label list to numpy array\n",
        "\n",
        "print(x_train.shape)\n",
        "print (y_train.shape)\n"
      ],
      "execution_count": 122,
      "outputs": [
        {
          "output_type": "stream",
          "text": [
            "(100, 125, 75)\n",
            "(100, 125)\n"
          ],
          "name": "stdout"
        }
      ]
    },
    {
      "cell_type": "code",
      "metadata": {
        "id": "rM0ga1euqv--",
        "colab_type": "code",
        "colab": {
          "base_uri": "https://localhost:8080/",
          "height": 34
        },
        "outputId": "051aed2d-4fa8-49b5-8a87-22b5fe91ce07"
      },
      "source": [
        "y_train = y_train.reshape(y_train.shape[0], y_train.shape[1], 1)\n",
        "print(y_train.shape)"
      ],
      "execution_count": 123,
      "outputs": [
        {
          "output_type": "stream",
          "text": [
            "(100, 125, 1)\n"
          ],
          "name": "stdout"
        }
      ]
    },
    {
      "cell_type": "code",
      "metadata": {
        "id": "P00ThmcNrFb1",
        "colab_type": "code",
        "colab": {
          "base_uri": "https://localhost:8080/",
          "height": 52
        },
        "outputId": "58a573a9-78d6-439f-c08d-7369af386e5e"
      },
      "source": [
        "print(x_train.shape)\n",
        "print (y_train.shape)"
      ],
      "execution_count": 124,
      "outputs": [
        {
          "output_type": "stream",
          "text": [
            "(100, 125, 75)\n",
            "(100, 125, 1)\n"
          ],
          "name": "stdout"
        }
      ]
    },
    {
      "cell_type": "markdown",
      "metadata": {
        "id": "t9KlKLUcsmQK",
        "colab_type": "text"
      },
      "source": [
        "## Model Configuration:"
      ]
    },
    {
      "cell_type": "code",
      "metadata": {
        "id": "Q6EnZ4JErufL",
        "colab_type": "code",
        "outputId": "f37a5807-fb9a-494e-dd49-79809790cf43",
        "colab": {
          "base_uri": "https://localhost:8080/",
          "height": 230
        }
      },
      "source": [
        "## Deep learning model:\n",
        "from tensorflow.python.keras import Sequential\n",
        "from tensorflow.python.keras.layers import Dense, LSTM, Dropout\n",
        "from keras import optimizers\n",
        "\n",
        "n_timesteps = 125   # same as maxlen padded   \n",
        "n_features = 75    # same as vector size of landmark\n",
        "cells = 5       \n",
        "\n",
        "model = Sequential()\n",
        "model.add(LSTM(cells, input_shape=(n_timesteps,n_features), dropout=0.1, recurrent_dropout=0.5, return_sequences = True))\n",
        "model.add(Dense(1))\n",
        "model.summary()\n",
        "\n",
        "model.compile(loss='binary_crossentropy', optimizer='adam', metrics=['accuracy'])                   # optmizer='rmsprop'/ 'sgd' "
      ],
      "execution_count": 130,
      "outputs": [
        {
          "output_type": "stream",
          "text": [
            "Model: \"sequential_44\"\n",
            "_________________________________________________________________\n",
            "Layer (type)                 Output Shape              Param #   \n",
            "=================================================================\n",
            "lstm_40 (LSTM)               (None, 125, 5)            1620      \n",
            "_________________________________________________________________\n",
            "dense_47 (Dense)             (None, 125, 1)            6         \n",
            "=================================================================\n",
            "Total params: 1,626\n",
            "Trainable params: 1,626\n",
            "Non-trainable params: 0\n",
            "_________________________________________________________________\n"
          ],
          "name": "stdout"
        }
      ]
    },
    {
      "cell_type": "code",
      "metadata": {
        "id": "46Na_Wgv06Y0",
        "colab_type": "code",
        "outputId": "2fd26f15-0c0c-427c-f500-3d008da74f04",
        "colab": {
          "base_uri": "https://localhost:8080/",
          "height": 301
        }
      },
      "source": [
        "epochs = 8    #10\n",
        "history = model.fit(x=x_train, y=y_train, validation_split = 0.15, batch_size=5, epochs=epochs, shuffle=True)"
      ],
      "execution_count": 126,
      "outputs": [
        {
          "output_type": "stream",
          "text": [
            "Epoch 1/8\n",
            "17/17 [==============================] - 1s 70ms/step - loss: 4.9410 - accuracy: 0.4357 - val_loss: 1.1827 - val_accuracy: 0.4427\n",
            "Epoch 2/8\n",
            "17/17 [==============================] - 1s 57ms/step - loss: 0.9198 - accuracy: 0.5145 - val_loss: 0.8950 - val_accuracy: 0.4464\n",
            "Epoch 3/8\n",
            "17/17 [==============================] - 1s 57ms/step - loss: 0.6694 - accuracy: 0.6413 - val_loss: 0.7595 - val_accuracy: 0.4997\n",
            "Epoch 4/8\n",
            "17/17 [==============================] - 1s 60ms/step - loss: 0.5425 - accuracy: 0.7575 - val_loss: 0.5808 - val_accuracy: 0.7611\n",
            "Epoch 5/8\n",
            "17/17 [==============================] - 1s 63ms/step - loss: 0.4296 - accuracy: 0.8475 - val_loss: 0.4269 - val_accuracy: 0.8160\n",
            "Epoch 6/8\n",
            "17/17 [==============================] - 1s 60ms/step - loss: 0.4279 - accuracy: 0.8893 - val_loss: 0.3311 - val_accuracy: 0.8859\n",
            "Epoch 7/8\n",
            "17/17 [==============================] - 1s 58ms/step - loss: 0.3213 - accuracy: 0.9072 - val_loss: 0.3205 - val_accuracy: 0.8747\n",
            "Epoch 8/8\n",
            "17/17 [==============================] - 1s 66ms/step - loss: 0.2406 - accuracy: 0.9230 - val_loss: 0.2480 - val_accuracy: 0.9141\n"
          ],
          "name": "stdout"
        }
      ]
    },
    {
      "cell_type": "markdown",
      "metadata": {
        "id": "X8aCZf0PxjnH",
        "colab_type": "text"
      },
      "source": [
        "## saving the trained model"
      ]
    },
    {
      "cell_type": "code",
      "metadata": {
        "id": "azYtGJRiw9HP",
        "colab_type": "code",
        "outputId": "20e36e03-c901-42be-f427-e4d66ed8029e",
        "colab": {
          "base_uri": "https://localhost:8080/",
          "height": 34
        }
      },
      "source": [
        "import json\n",
        "\n",
        "model_dir = '/content/drive/My Drive/Google_Colab/saved_models'\n",
        "\n",
        "model_json = model.to_json()\n",
        "with open(model_dir + \"/P05_LSTM_model6.json\", \"w\") as json_file:\n",
        "    json_file.write(model_json)\n",
        "    # serialize weights to HDF5\n",
        "model.save_weights(model_dir + \"/P05_LSTM_model6.h5\")\n",
        "print(\"Saved model to disk\")"
      ],
      "execution_count": 127,
      "outputs": [
        {
          "output_type": "stream",
          "text": [
            "Saved model to disk\n"
          ],
          "name": "stdout"
        }
      ]
    },
    {
      "cell_type": "markdown",
      "metadata": {
        "id": "Ezj8Xze7xpEp",
        "colab_type": "text"
      },
      "source": [
        "## Plotting Results"
      ]
    },
    {
      "cell_type": "code",
      "metadata": {
        "id": "eQmElJ3IXMQ3",
        "colab_type": "code",
        "colab": {
          "base_uri": "https://localhost:8080/",
          "height": 562
        },
        "outputId": "86729185-fe00-47eb-9bb0-af9853207753"
      },
      "source": [
        "import matplotlib.pyplot as plt\n",
        "\n",
        "acc = history.history['accuracy']\n",
        "val_acc = history.history['val_accuracy']\n",
        "loss = history.history['loss']\n",
        "val_loss = history.history['val_loss']\n",
        "\n",
        "epochs = range(1, len(acc) + 1)\n",
        "\n",
        "# Plot Training and Validation accuracy over epoch\n",
        "plt.plot(epochs, acc, 'bo', label='Training acc')\n",
        "plt.plot(epochs, val_acc, 'b', label='Validation acc')\n",
        "plt.title('Training and validation accuracy')\n",
        "plt.legend()\n",
        "\n",
        "plt.figure()\n",
        "\n",
        "# Plot Training and Validation loss over epoch\n",
        "plt.plot(epochs, loss, 'bo', label='Training loss')\n",
        "plt.plot(epochs, val_loss, 'b', label='Validation loss')\n",
        "plt.title('Training and validation loss')\n",
        "plt.legend()"
      ],
      "execution_count": 131,
      "outputs": [
        {
          "output_type": "execute_result",
          "data": {
            "text/plain": [
              "<matplotlib.legend.Legend at 0x7fd744b727b8>"
            ]
          },
          "metadata": {
            "tags": []
          },
          "execution_count": 131
        },
        {
          "output_type": "display_data",
          "data": {
            "image/png": "[encoded data removed]",
            "text/plain": [
              "<Figure size 432x288 with 1 Axes>"
            ]
          },
          "metadata": {
            "tags": []
          }
        },
        {
          "output_type": "display_data",
          "data": {
            "image/png": "[encoded data removed]",
            "text/plain": [
              "<Figure size 432x288 with 1 Axes>"
            ]
          },
          "metadata": {
            "tags": []
          }
        }
      ]
    },
    {
      "cell_type": "code",
      "metadata": {
        "id": "WfEjRXAyQJSy",
        "colab_type": "code",
        "colab": {}
      },
      "source": [
        ""
      ],
      "execution_count": 0,
      "outputs": []
    },
    {
      "cell_type": "code",
      "metadata": {
        "id": "4GxYOEoLshGK",
        "colab_type": "code",
        "colab": {}
      },
      "source": [
        ""
      ],
      "execution_count": 0,
      "outputs": []
    }
  ]
}