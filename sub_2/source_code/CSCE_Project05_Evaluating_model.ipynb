{
  "nbformat": 4,
  "nbformat_minor": 0,
  "metadata": {
    "colab": {
      "name": "CSCE_Project05_Evaluating_model.ipynb",
      "provenance": [],
      "collapsed_sections": []
    },
    "kernelspec": {
      "name": "python3",
      "display_name": "Python 3"
    }
  },
  "cells": [
    {
      "cell_type": "code",
      "metadata": {
        "id": "y9xPOEwW_b5Q",
        "colab_type": "code",
        "outputId": "a26ecf3c-5400-40c3-99f5-5a1db5c68694",
        "colab": {
          "base_uri": "https://localhost:8080/",
          "height": 125
        }
      },
      "source": [
        "from google.colab import drive\n",
        "drive.mount('/content/drive')"
      ],
      "execution_count": 1,
      "outputs": [
        {
          "output_type": "stream",
          "text": [
            "Go to this URL in a browser: https://accounts.google.com/o/oauth2/auth?client_id=947318989803-6bn6qk8qdgf4n4g3pfee6491hc0brc4i.apps.googleusercontent.com&redirect_uri=urn%3aietf%3awg%3aoauth%3a2.0%3aoob&response_type=code&scope=email%20https%3a%2f%2fwww.googleapis.com%2fauth%2fdocs.test%20https%3a%2f%2fwww.googleapis.com%2fauth%2fdrive%20https%3a%2f%2fwww.googleapis.com%2fauth%2fdrive.photos.readonly%20https%3a%2f%2fwww.googleapis.com%2fauth%2fpeopleapi.readonly\n",
            "\n",
            "Enter your authorization code:\n",
            "··········\n",
            "Mounted at /content/drive\n"
          ],
          "name": "stdout"
        }
      ]
    },
    {
      "cell_type": "markdown",
      "metadata": {
        "id": "2ZnvKRyfXDAH",
        "colab_type": "text"
      },
      "source": [
        "## Get the x_test and y_test"
      ]
    },
    {
      "cell_type": "code",
      "metadata": {
        "id": "9Ze8QAGZ_Vjy",
        "colab_type": "code",
        "outputId": "232d52b4-0a81-4093-bac0-a66e5d161f71",
        "colab": {
          "base_uri": "https://localhost:8080/",
          "height": 52
        }
      },
      "source": [
        "import pandas as pd\n",
        "import numpy as np\n",
        "from sklearn import preprocessing\n",
        "\n",
        "base_dir = \"/content/drive/My Drive/Google_Colab\"\n",
        "# test_data consist 5 sampels save in an excel file. Read each sample by calling its corresponding sheet\n",
        "df = pd.read_excel(base_dir + '/' + 'test_data_2.xlsx', index_col = 0, sheet_name='sample5')\n",
        "\n",
        "labels = df.index.tolist()\n",
        "# get binary labels: if label=push, then is 1, and if label='other', then is 0\n",
        "\n",
        "\n",
        "r = 4    #number of videos\n",
        "m = 125     # number of frames (padded to max-len): this info is got from last block\n",
        "n = 75    # number of landmark vector-size\n",
        "\n",
        "\n",
        "def binary_label(labels):\n",
        "    binary_labels = []\n",
        "    for l in labels:\n",
        "        if l.split('_')[0]=='push':\n",
        "            #binary_labels.append(1)\n",
        "            binary_labels.append(np.ones(m))\n",
        "        else:\n",
        "            #binary_labels.append(0)\n",
        "            binary_labels.append(np.zeros(m))\n",
        "    return binary_labels\n",
        "\n",
        "# get list of labels as 0 and 1\n",
        "test_label_list = binary_label(labels)\n",
        "\n",
        "# get x_train and Normalize it so all numbers get scaled between 0-1\n",
        "input_data = df.values\n",
        "min_max_scaler = preprocessing.MinMaxScaler()\n",
        "x_test_scaled = min_max_scaler.fit_transform(input_data)\n",
        "\n",
        "# reshaping the data to get the original shape of the input data\n",
        "# each sample consists of 4 videos including 2 actions as pushing and 2 actions as other. all 4 videos are coupled\n",
        "# and given as one test sample to the model (this method is used to avoid manual labeling)\n",
        "\n",
        "x_test= x_test_scaled.reshape(r, m, n)\n",
        "y_test = np.asarray(test_label_list)            #convert label list to numpy array\n",
        "y_test = y_test.reshape(y_test.shape[0], y_test.shape[1], 1)    #reshape y_label to the correct shape\n",
        "\n",
        "print(x_test.shape)\n",
        "print (y_test.shape)"
      ],
      "execution_count": 31,
      "outputs": [
        {
          "output_type": "stream",
          "text": [
            "(4, 125, 75)\n",
            "(4, 125, 1)\n"
          ],
          "name": "stdout"
        }
      ]
    },
    {
      "cell_type": "markdown",
      "metadata": {
        "id": "RZmLMKNgX6Vt",
        "colab_type": "text"
      },
      "source": [
        "### Loading the trained model"
      ]
    },
    {
      "cell_type": "code",
      "metadata": {
        "id": "HJOJMHyW_yt9",
        "colab_type": "code",
        "outputId": "11e908a7-360c-404d-a8fb-92d475dcb9eb",
        "colab": {
          "base_uri": "https://localhost:8080/",
          "height": 35
        }
      },
      "source": [
        "from tensorflow.python.keras.models import model_from_json\n",
        "\n",
        "\n",
        "json_file = open(base_dir + '/saved_models'+'/P05_LSTM_model6.json')\n",
        "loaded_model_json = json_file.read()\n",
        "json_file.close()\n",
        "\n",
        "loaded_model = model_from_json(loaded_model_json)\n",
        "# load weights into new model\n",
        "loaded_model.load_weights(base_dir +'/saved_models' +'/P05_LSTM_model6.h5')\n",
        "print(\"Loaded model from disk\")"
      ],
      "execution_count": 3,
      "outputs": [
        {
          "output_type": "stream",
          "text": [
            "Loaded model from disk\n"
          ],
          "name": "stdout"
        }
      ]
    },
    {
      "cell_type": "markdown",
      "metadata": {
        "id": "XisyDk79xS_h",
        "colab_type": "text"
      },
      "source": [
        "## Compile the model"
      ]
    },
    {
      "cell_type": "code",
      "metadata": {
        "id": "UQfk1eSAw08a",
        "colab_type": "code",
        "colab": {}
      },
      "source": [
        "#from tensorflow.python.keras import Sequential\n",
        "#from tensorflow.python.keras.layers import Dense, LSTM\n",
        "\n",
        "loaded_model.compile(loss='binary_crossentropy', optimizer='adam', metrics=['accuracy'])       "
      ],
      "execution_count": 0,
      "outputs": []
    },
    {
      "cell_type": "markdown",
      "metadata": {
        "id": "Mmabx3AzY8L5",
        "colab_type": "text"
      },
      "source": [
        "## Evaluate model on test data"
      ]
    },
    {
      "cell_type": "code",
      "metadata": {
        "id": "_SIWU0rAyEIT",
        "colab_type": "code",
        "colab": {
          "base_uri": "https://localhost:8080/",
          "height": 52
        },
        "outputId": "fb6362ab-5537-457f-e19a-4a6fa5206237"
      },
      "source": [
        "scores = loaded_model.evaluate(x_test, y_test,batch_size=1)\n",
        "print(\"%s: %.2f%%\" % (loaded_model.metrics_names[1], scores[1]*100))"
      ],
      "execution_count": 32,
      "outputs": [
        {
          "output_type": "stream",
          "text": [
            "4/4 [==============================] - 0s 7ms/step - loss: 0.1871 - accuracy: 0.9380\n",
            "accuracy: 93.80%\n"
          ],
          "name": "stdout"
        }
      ]
    },
    {
      "cell_type": "markdown",
      "metadata": {
        "id": "NsodJ_51ZgQS",
        "colab_type": "text"
      },
      "source": [
        "## Timelabel.json file"
      ]
    },
    {
      "cell_type": "code",
      "metadata": {
        "id": "T3U2ir1qcYZW",
        "colab_type": "code",
        "outputId": "f218a911-68fb-4ed3-ae34-844f2c75ef0c",
        "colab": {
          "base_uri": "https://localhost:8080/",
          "height": 34
        }
      },
      "source": [
        "predictions = loaded_model.predict(x= x_test)\n",
        "predictions.shape"
      ],
      "execution_count": 33,
      "outputs": [
        {
          "output_type": "execute_result",
          "data": {
            "text/plain": [
              "(4, 125, 1)"
            ]
          },
          "metadata": {
            "tags": []
          },
          "execution_count": 33
        }
      ]
    },
    {
      "cell_type": "code",
      "metadata": {
        "id": "opm527LsZAwr",
        "colab_type": "code",
        "colab": {}
      },
      "source": [
        "import json\n",
        "\n",
        "#my video length that gives 125 jsonfile (125 frame) is 4 second. since I have done padding to maxlen of 125 frames it means that I have considered the first 4 seconds of each video.\n",
        "# So each sample consisits of 4 vides. and it means the video sample length are 12 seconds. (4*4 =16)  \n",
        "vid_len = 16      \n",
        "n = predictions.shape[0]*predictions.shape[1]\n",
        "\n",
        "preds = predictions.reshape(n,)\n",
        "\n",
        "json = \"{\\\"push\\\":[\"\n",
        "values = []\n",
        "times = np.linspace(0.1,vid_len,n)\n",
        "\n",
        "for i in range(len(preds)):\n",
        "    l = \"[\"\n",
        "    #time += 0.5\n",
        "    time = times[i]\n",
        "    l += str(time)\n",
        "    l += ','\n",
        "    l += str(preds[i])\n",
        "    l += \"]\"\n",
        "    l += \",\"\n",
        "    json += l\n",
        "\n",
        "json = json[:-1]\n",
        "    \n",
        "json += \"]}\""
      ],
      "execution_count": 0,
      "outputs": []
    },
    {
      "cell_type": "markdown",
      "metadata": {
        "id": "H3TJITIpC7uL",
        "colab_type": "text"
      },
      "source": [
        "### Saving TimeLabel JSON file"
      ]
    },
    {
      "cell_type": "code",
      "metadata": {
        "id": "L6EcwQtTCQEk",
        "colab_type": "code",
        "colab": {}
      },
      "source": [
        "with open(base_dir+'/timelabel_json'+'/timelabel_sample5.json', 'w') as f:\n",
        "    f.write(json)"
      ],
      "execution_count": 0,
      "outputs": []
    },
    {
      "cell_type": "markdown",
      "metadata": {
        "id": "_RD30Ue4DA5U",
        "colab_type": "text"
      },
      "source": [
        "## Plotting TimeLable v.s time"
      ]
    },
    {
      "cell_type": "code",
      "metadata": {
        "id": "2vy4IkJBcNjN",
        "colab_type": "code",
        "colab": {
          "base_uri": "https://localhost:8080/",
          "height": 334
        },
        "outputId": "76f29052-b99e-456d-fa9a-4197e6712b91"
      },
      "source": [
        "import matplotlib.pyplot as plt   \n",
        "%matplotlib inline\n",
        "\n",
        "# Plot Training and Validation accuracy over epoch\n",
        "plt.plot(times, preds)\n",
        "plt.title('Pushing detection during video time-length')\n",
        "plt.legend()\n",
        "\n",
        "plt.figure()"
      ],
      "execution_count": 35,
      "outputs": [
        {
          "output_type": "stream",
          "text": [
            "No handles with labels found to put in legend.\n"
          ],
          "name": "stderr"
        },
        {
          "output_type": "execute_result",
          "data": {
            "text/plain": [
              "<Figure size 432x288 with 0 Axes>"
            ]
          },
          "metadata": {
            "tags": []
          },
          "execution_count": 35
        },
        {
          "output_type": "display_data",
          "data": {
            "image/png": "[encoded data removed]",
            "text/plain": [
              "<Figure size 432x288 with 1 Axes>"
            ]
          },
          "metadata": {
            "tags": []
          }
        },
        {
          "output_type": "display_data",
          "data": {
            "text/plain": [
              "<Figure size 432x288 with 0 Axes>"
            ]
          },
          "metadata": {
            "tags": []
          }
        }
      ]
    },
    {
      "cell_type": "code",
      "metadata": {
        "id": "zcGcNRltZPzL",
        "colab_type": "code",
        "colab": {}
      },
      "source": [
        ""
      ],
      "execution_count": 0,
      "outputs": []
    }
  ]
}